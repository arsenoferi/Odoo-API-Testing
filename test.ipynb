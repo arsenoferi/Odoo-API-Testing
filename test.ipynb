{
 "cells": [
  {
   "cell_type": "code",
   "execution_count": 244,
   "metadata": {},
   "outputs": [],
   "source": [
    "from Odoo_connection import *\n",
    "import pandas as pd\n",
    "import os"
   ]
  },
  {
   "cell_type": "code",
   "execution_count": 245,
   "metadata": {},
   "outputs": [],
   "source": [
    "url = 'https://bunker2.odoo.com/jsonrpc'\n",
    "db = 'bunker2'\n",
    "username = 'bizops@bunkertech.id'\n",
    "password = '4ad442ec0fc8258dd547b814fba38823702afc91'"
   ]
  },
  {
   "cell_type": "code",
   "execution_count": 246,
   "metadata": {},
   "outputs": [
    {
     "name": "stdout",
     "output_type": "stream",
     "text": [
      "Successfully authenticated. UID: 2\n"
     ]
    }
   ],
   "source": [
    "Odoo = Odoo_connection(url, db, username, password)\n",
    "Odoo.test_connection()"
   ]
  },
  {
   "cell_type": "code",
   "execution_count": 247,
   "metadata": {},
   "outputs": [],
   "source": [
    "columns = Odoo.odoo_get_column('account.move.line')\n",
    "state = []\n",
    "\n",
    "# Ini kenapa compute_all_tax gak mau coba di cari cari ya guys, mohon bantuannya \n",
    "for i in list(columns.keys()):\n",
    "    if i != 'compute_all_tax':\n",
    "        state.append(i)\n",
    "\n",
    "columns = state"
   ]
  },
  {
   "cell_type": "code",
   "execution_count": 248,
   "metadata": {},
   "outputs": [],
   "source": [
    "data = Odoo.odoo_get_data('account.move.line',[],columns)\n",
    "df = pd.DataFrame(data)\n",
    "df = df.astype('str')\n",
    "df.to_parquet(os.path.join('data','account_move_line.parquet'))"
   ]
  },
  {
   "cell_type": "code",
   "execution_count": 249,
   "metadata": {},
   "outputs": [
    {
     "data": {
      "text/plain": [
       "list"
      ]
     },
     "execution_count": 249,
     "metadata": {},
     "output_type": "execute_result"
    }
   ],
   "source": [
    "type(columns)"
   ]
  },
  {
   "cell_type": "code",
   "execution_count": null,
   "metadata": {},
   "outputs": [],
   "source": []
  }
 ],
 "metadata": {
  "kernelspec": {
   "display_name": "bunker",
   "language": "python",
   "name": "bunker"
  },
  "language_info": {
   "codemirror_mode": {
    "name": "ipython",
    "version": 3
   },
   "file_extension": ".py",
   "mimetype": "text/x-python",
   "name": "python",
   "nbconvert_exporter": "python",
   "pygments_lexer": "ipython3",
   "version": "3.11.4"
  }
 },
 "nbformat": 4,
 "nbformat_minor": 2
}
